{
 "cells": [
  {
   "cell_type": "code",
   "execution_count": 13,
   "id": "ad8b68ad",
   "metadata": {},
   "outputs": [],
   "source": [
    "import random\n",
    "import re\n",
    "from pyecharts import options as opts\n",
    "from pyecharts.charts import HeatMap\n",
    "from pyecharts.charts import Pie\n",
    "from pyecharts.faker import Faker\n",
    "\n",
    "        \n",
    "        "
   ]
  },
  {
   "cell_type": "code",
   "execution_count": 34,
   "id": "7dd40114",
   "metadata": {},
   "outputs": [
    {
     "data": {
      "text/plain": [
       "'C:\\\\Users\\\\10573\\\\Desktop\\\\StudyNotes\\\\上课\\\\高级数据库\\\\实验\\\\pie of Read time.html'"
      ]
     },
     "execution_count": 34,
     "metadata": {},
     "output_type": "execute_result"
    }
   ],
   "source": []
  },
  {
   "cell_type": "code",
   "execution_count": 3,
   "id": "6a7847cd",
   "metadata": {},
   "outputs": [
    {
     "data": {
      "text/plain": [
       "'C:\\\\Users\\\\10573\\\\Desktop\\\\StudyNotes\\\\上课\\\\高级数据库\\\\实验\\\\heatmap_with_label_show.html'"
      ]
     },
     "execution_count": 3,
     "metadata": {},
     "output_type": "execute_result"
    }
   ],
   "source": [
    "file = open(\"data-5w-50w-zipf.txt\",\"r+\")\n",
    "# file = open(\"in.txt\",\"r+\")\n",
    "content = file.read()\n",
    "content = re.split('\\n|,',content)\n",
    "cnt = {i:0 for i in range(0,50001)}\n",
    "\n",
    "for i in range(1,len(content),2):\n",
    "    cnt[int(content[i])]+=1\n",
    "    \n",
    "val = []\n",
    "row = 20\n",
    "col = 10\n",
    "block = 250\n",
    "mini = 1e9\n",
    "maxi = 0\n",
    "for i in range(row):\n",
    "    for j in range(col):\n",
    "        fre = 0\n",
    "        for k in range (block):\n",
    "            fre += cnt[i*row*col+j*block+k]\n",
    "        val.append((j,i,fre))\n",
    "        mini = min(mini,fre)\n",
    "        maxi = max(maxi,fre)\n",
    "\n",
    "heat = (\n",
    "    HeatMap()\n",
    "    .add_xaxis([block*i for i in range(col)])\n",
    "    .add_yaxis(\n",
    "        \"\",\n",
    "        [block*i*col for i in range(row)],\n",
    "        val,\n",
    "        label_opts=opts.LabelOpts(is_show=True,position=\"inside\"),\n",
    "    )\n",
    "    .set_global_opts(\n",
    "        title_opts=opts.TitleOpts(title=\"page调用次数热力图\",pos_left=\"center\"),\n",
    "        visualmap_opts=opts.VisualMapOpts(\n",
    "            min_=mini, max_=maxi/25, is_calculable=True, orient=\"horizontal\", pos_left=\"center\"\n",
    "        )\n",
    "    )    \n",
    "#     .render_notebook()\n",
    "    .render(\"heatmap_with_label_show.html\")\n",
    ")"
   ]
  },
  {
   "cell_type": "code",
   "execution_count": null,
   "id": "bc704805",
   "metadata": {},
   "outputs": [],
   "source": [
    "# inner_x_data = [ \"Read Hit次数\", \"Read Miss次数\"]\n",
    "# inner_y_data = [86595, 255210-86595]\n",
    "# inner_data_pair = [list(z) for z in zip(inner_x_data, inner_y_data)]\n",
    "\n",
    "# outer_x_data = [ \"Runtime of Read Hit（ms）\", \"Runtime of Read Miss（ms）\"]\n",
    "# outer_y_data = [3573-3565, 3565]\n",
    "# outer_data_pair = [list(z) for z in zip(outer_x_data, outer_y_data)]\n",
    "\n",
    "inner_x_data = [ \"Write Hit次数\", \"Write Miss次数\"]\n",
    "inner_y_data = [82970, 244790-82970]\n",
    "inner_data_pair = [list(z) for z in zip(inner_x_data, inner_y_data)]\n",
    "\n",
    "outer_x_data = [ \"Runtime of Write Hit（ms）\", \"Runtime of Write Miss（ms）\"]\n",
    "outer_y_data = [7594-6212, 7594]\n",
    "outer_data_pair = [list(z) for z in zip(outer_x_data, outer_y_data)]\n",
    "\n",
    "(\n",
    "    Pie(init_opts=opts.InitOpts(width=\"800px\", height=\"400px\"))\n",
    "    .add(\n",
    "        series_name=\"\",\n",
    "        data_pair=inner_data_pair,\n",
    "        radius=[0, \"30%\"],\n",
    "        label_opts=opts.LabelOpts(\n",
    "            position=\"inner\",\n",
    "            formatter=\" {b}:{c}  per:{d}%  \",\n",
    "        ),\n",
    "    )\n",
    "    .add(\n",
    "        series_name=\"\",\n",
    "        radius=[\"40%\", \"55%\"],\n",
    "        data_pair=outer_data_pair,\n",
    "        label_opts=opts.LabelOpts(\n",
    "            position=\"outside\",\n",
    "            formatter=\"{a|{a}}{abg|}\\n{hr|}\\n {b|{b}: }{c}  {per|{d}%}  \",\n",
    "            background_color=\"#eee\",\n",
    "            border_color=\"#aaa\",\n",
    "            border_width=1,\n",
    "            border_radius=4,\n",
    "            rich={\n",
    "                \"a\": {\"color\": \"#999\", \"lineHeight\": 22, \"align\": \"center\"},\n",
    "                \"abg\": {\n",
    "                    \"backgroundColor\": \"#e3e3e3\",\n",
    "                    \"width\": \"100%\",\n",
    "                    \"align\": \"right\",\n",
    "                    \"height\": 22,\n",
    "                    \"borderRadius\": [4, 4, 0, 0],\n",
    "                },\n",
    "                \"hr\": {\n",
    "                    \"borderColor\": \"#aaa\",\n",
    "                    \"width\": \"100%\",\n",
    "                    \"borderWidth\": 0.5,\n",
    "                    \"height\": 0,\n",
    "                },\n",
    "                \"b\": {\"fontSize\": 16, \"lineHeight\": 33},\n",
    "                \"per\": {\n",
    "                    \"color\": \"#eee\",\n",
    "                    \"backgroundColor\": \"#334455\",\n",
    "                    \"padding\": [2, 4],\n",
    "                    \"borderRadius\": 2,\n",
    "                },\n",
    "            },\n",
    "        ),\n",
    "    )\n",
    "    .set_global_opts(legend_opts=opts.LegendOpts(pos_left=\"left\", orient=\"vertical\"))\n",
    "    .set_series_opts(\n",
    "        tooltip_opts=opts.TooltipOpts(\n",
    "            trigger=\"item\", formatter=\"{a} <br/>{b}: {c} ({d}%)\"\n",
    "        )\n",
    "    )\n",
    "#     .render_notebook()\n",
    "    .render(\"pie of Read time.html\")\n",
    ")"
   ]
  }
 ],
 "metadata": {
  "kernelspec": {
   "display_name": "Python 3 (ipykernel)",
   "language": "python",
   "name": "python3"
  },
  "language_info": {
   "codemirror_mode": {
    "name": "ipython",
    "version": 3
   },
   "file_extension": ".py",
   "mimetype": "text/x-python",
   "name": "python",
   "nbconvert_exporter": "python",
   "pygments_lexer": "ipython3",
   "version": "3.9.5"
  }
 },
 "nbformat": 4,
 "nbformat_minor": 5
}
